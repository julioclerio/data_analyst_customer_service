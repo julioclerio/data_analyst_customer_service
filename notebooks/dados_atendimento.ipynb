{
  "nbformat": 4,
  "nbformat_minor": 0,
  "metadata": {
    "colab": {
      "provenance": []
    },
    "kernelspec": {
      "name": "python3",
      "display_name": "Python 3"
    },
    "language_info": {
      "name": "python"
    }
  },
  "cells": [
    {
      "cell_type": "code",
      "execution_count": null,
      "metadata": {
        "colab": {
          "base_uri": "https://localhost:8080/"
        },
        "id": "REzjDPjNj2d9",
        "outputId": "9cee4789-a0d3-4ce9-a790-5f88426aadae"
      },
      "outputs": [
        {
          "output_type": "stream",
          "name": "stdout",
          "text": [
            "Looking in indexes: https://pypi.org/simple, https://us-python.pkg.dev/colab-wheels/public/simple/\n",
            "Collecting pandera\n",
            "  Downloading pandera-0.14.5-py3-none-any.whl (149 kB)\n",
            "\u001b[2K     \u001b[90m━━━━━━━━━━━━━━━━━━━━━━━━━━━━━━━━━━━━━━━\u001b[0m \u001b[32m149.3/149.3 KB\u001b[0m \u001b[31m3.4 MB/s\u001b[0m eta \u001b[36m0:00:00\u001b[0m\n",
            "\u001b[?25hCollecting typing-inspect>=0.6.0\n",
            "  Downloading typing_inspect-0.8.0-py3-none-any.whl (8.7 kB)\n",
            "Requirement already satisfied: multimethod in /usr/local/lib/python3.9/dist-packages (from pandera) (1.9.1)\n",
            "Requirement already satisfied: pydantic in /usr/local/lib/python3.9/dist-packages (from pandera) (1.10.7)\n",
            "Requirement already satisfied: numpy>=1.19.0 in /usr/local/lib/python3.9/dist-packages (from pandera) (1.22.4)\n",
            "Requirement already satisfied: packaging>=20.0 in /usr/local/lib/python3.9/dist-packages (from pandera) (23.0)\n",
            "Requirement already satisfied: pandas>=1.2.0 in /usr/local/lib/python3.9/dist-packages (from pandera) (1.4.4)\n",
            "Requirement already satisfied: wrapt in /usr/local/lib/python3.9/dist-packages (from pandera) (1.14.1)\n",
            "Requirement already satisfied: python-dateutil>=2.8.1 in /usr/local/lib/python3.9/dist-packages (from pandas>=1.2.0->pandera) (2.8.2)\n",
            "Requirement already satisfied: pytz>=2020.1 in /usr/local/lib/python3.9/dist-packages (from pandas>=1.2.0->pandera) (2022.7.1)\n",
            "Requirement already satisfied: typing-extensions>=3.7.4 in /usr/local/lib/python3.9/dist-packages (from typing-inspect>=0.6.0->pandera) (4.5.0)\n",
            "Collecting mypy-extensions>=0.3.0\n",
            "  Downloading mypy_extensions-1.0.0-py3-none-any.whl (4.7 kB)\n",
            "Requirement already satisfied: six>=1.5 in /usr/local/lib/python3.9/dist-packages (from python-dateutil>=2.8.1->pandas>=1.2.0->pandera) (1.16.0)\n",
            "Installing collected packages: mypy-extensions, typing-inspect, pandera\n",
            "Successfully installed mypy-extensions-1.0.0 pandera-0.14.5 typing-inspect-0.8.0\n"
          ]
        }
      ],
      "source": [
        "pip install pandera"
      ]
    },
    {
      "cell_type": "code",
      "source": [
        "import pandas as pd\n",
        "import os\n",
        "import numpy as np\n",
        "\n",
        "import pandera as pa"
      ],
      "metadata": {
        "id": "DOt1FKcJkFz1"
      },
      "execution_count": null,
      "outputs": []
    },
    {
      "cell_type": "code",
      "source": [
        "path = '/content/dados_atendimento - atendimentos (1).csv'"
      ],
      "metadata": {
        "id": "-DqteNdLkJcO"
      },
      "execution_count": null,
      "outputs": []
    },
    {
      "cell_type": "code",
      "source": [
        "df = pd.read_csv(path,sep=',')"
      ],
      "metadata": {
        "id": "3PxmhtNgkI7Z"
      },
      "execution_count": null,
      "outputs": []
    },
    {
      "cell_type": "code",
      "source": [
        "df"
      ],
      "metadata": {
        "colab": {
          "base_uri": "https://localhost:8080/",
          "height": 455
        },
        "id": "aAovpRVXkPrj",
        "outputId": "8f1a7897-42a0-40e9-e45a-5a4bdc4a23d5"
      },
      "execution_count": null,
      "outputs": [
        {
          "output_type": "execute_result",
          "data": {
            "text/plain": [
              "              Data   Atendente          Área Respondido - Resolvido (S/N)  \\\n",
              "Call Id                                                                     \n",
              "ID0001  2020-03-24     João D.        Vendas                      Sim - S   \n",
              "ID0002  2020-03-19  Marcelo F.    Reclamação                      Sim - N   \n",
              "ID0003  2020-03-20  Leandro C.        Vendas                      Sim - S   \n",
              "ID0004  2020-03-11  Leandro C.        Vendas                      Sim - S   \n",
              "ID0007  2020-03-03   Marina Z.  Cancelametos                      Sim - S   \n",
              "...            ...         ...           ...                          ...   \n",
              "ID1764  2020-03-08      Ana S.        Vendas                      Sim - S   \n",
              "ID1765  2020-03-07      Ana S.        Vendas                      Sim - S   \n",
              "ID1766  2020-03-22  Gustavo M.        Vendas                      Sim - S   \n",
              "ID1770  2020-03-06      Ana S.  Cancelametos                      Sim - S   \n",
              "ID1772  2020-03-28  Leandro C.    Reclamação                      Sim - S   \n",
              "\n",
              "         Velocidade de Resposta  Duracao com atendente em Segundos  \\\n",
              "Call Id                                                              \n",
              "ID0001                      109                                143   \n",
              "ID0002                       70                                242   \n",
              "ID0003                       10                                131   \n",
              "ID0004                       53                                 37   \n",
              "ID0007                       24                                220   \n",
              "...                         ...                                ...   \n",
              "ID1764                       92                                360   \n",
              "ID1765                       95                                300   \n",
              "ID1766                       49                                118   \n",
              "ID1770                       78                                 62   \n",
              "ID1772                      121                                361   \n",
              "\n",
              "         Índice de Satisfacao  \n",
              "Call Id                        \n",
              "ID0001                      2  \n",
              "ID0002                      3  \n",
              "ID0003                      3  \n",
              "ID0004                      2  \n",
              "ID0007                      2  \n",
              "...                       ...  \n",
              "ID1764                      4  \n",
              "ID1765                      3  \n",
              "ID1766                      5  \n",
              "ID1770                      4  \n",
              "ID1772                      2  \n",
              "\n",
              "[1009 rows x 7 columns]"
            ],
            "text/html": [
              "\n",
              "  <div id=\"df-fd1887f9-cfcc-4498-bb32-41bb7b6a931f\">\n",
              "    <div class=\"colab-df-container\">\n",
              "      <div>\n",
              "<style scoped>\n",
              "    .dataframe tbody tr th:only-of-type {\n",
              "        vertical-align: middle;\n",
              "    }\n",
              "\n",
              "    .dataframe tbody tr th {\n",
              "        vertical-align: top;\n",
              "    }\n",
              "\n",
              "    .dataframe thead th {\n",
              "        text-align: right;\n",
              "    }\n",
              "</style>\n",
              "<table border=\"1\" class=\"dataframe\">\n",
              "  <thead>\n",
              "    <tr style=\"text-align: right;\">\n",
              "      <th></th>\n",
              "      <th>Data</th>\n",
              "      <th>Atendente</th>\n",
              "      <th>Área</th>\n",
              "      <th>Respondido - Resolvido (S/N)</th>\n",
              "      <th>Velocidade de Resposta</th>\n",
              "      <th>Duracao com atendente em Segundos</th>\n",
              "      <th>Índice de Satisfacao</th>\n",
              "    </tr>\n",
              "    <tr>\n",
              "      <th>Call Id</th>\n",
              "      <th></th>\n",
              "      <th></th>\n",
              "      <th></th>\n",
              "      <th></th>\n",
              "      <th></th>\n",
              "      <th></th>\n",
              "      <th></th>\n",
              "    </tr>\n",
              "  </thead>\n",
              "  <tbody>\n",
              "    <tr>\n",
              "      <th>ID0001</th>\n",
              "      <td>2020-03-24</td>\n",
              "      <td>João D.</td>\n",
              "      <td>Vendas</td>\n",
              "      <td>Sim - S</td>\n",
              "      <td>109</td>\n",
              "      <td>143</td>\n",
              "      <td>2</td>\n",
              "    </tr>\n",
              "    <tr>\n",
              "      <th>ID0002</th>\n",
              "      <td>2020-03-19</td>\n",
              "      <td>Marcelo F.</td>\n",
              "      <td>Reclamação</td>\n",
              "      <td>Sim - N</td>\n",
              "      <td>70</td>\n",
              "      <td>242</td>\n",
              "      <td>3</td>\n",
              "    </tr>\n",
              "    <tr>\n",
              "      <th>ID0003</th>\n",
              "      <td>2020-03-20</td>\n",
              "      <td>Leandro C.</td>\n",
              "      <td>Vendas</td>\n",
              "      <td>Sim - S</td>\n",
              "      <td>10</td>\n",
              "      <td>131</td>\n",
              "      <td>3</td>\n",
              "    </tr>\n",
              "    <tr>\n",
              "      <th>ID0004</th>\n",
              "      <td>2020-03-11</td>\n",
              "      <td>Leandro C.</td>\n",
              "      <td>Vendas</td>\n",
              "      <td>Sim - S</td>\n",
              "      <td>53</td>\n",
              "      <td>37</td>\n",
              "      <td>2</td>\n",
              "    </tr>\n",
              "    <tr>\n",
              "      <th>ID0007</th>\n",
              "      <td>2020-03-03</td>\n",
              "      <td>Marina Z.</td>\n",
              "      <td>Cancelametos</td>\n",
              "      <td>Sim - S</td>\n",
              "      <td>24</td>\n",
              "      <td>220</td>\n",
              "      <td>2</td>\n",
              "    </tr>\n",
              "    <tr>\n",
              "      <th>...</th>\n",
              "      <td>...</td>\n",
              "      <td>...</td>\n",
              "      <td>...</td>\n",
              "      <td>...</td>\n",
              "      <td>...</td>\n",
              "      <td>...</td>\n",
              "      <td>...</td>\n",
              "    </tr>\n",
              "    <tr>\n",
              "      <th>ID1764</th>\n",
              "      <td>2020-03-08</td>\n",
              "      <td>Ana S.</td>\n",
              "      <td>Vendas</td>\n",
              "      <td>Sim - S</td>\n",
              "      <td>92</td>\n",
              "      <td>360</td>\n",
              "      <td>4</td>\n",
              "    </tr>\n",
              "    <tr>\n",
              "      <th>ID1765</th>\n",
              "      <td>2020-03-07</td>\n",
              "      <td>Ana S.</td>\n",
              "      <td>Vendas</td>\n",
              "      <td>Sim - S</td>\n",
              "      <td>95</td>\n",
              "      <td>300</td>\n",
              "      <td>3</td>\n",
              "    </tr>\n",
              "    <tr>\n",
              "      <th>ID1766</th>\n",
              "      <td>2020-03-22</td>\n",
              "      <td>Gustavo M.</td>\n",
              "      <td>Vendas</td>\n",
              "      <td>Sim - S</td>\n",
              "      <td>49</td>\n",
              "      <td>118</td>\n",
              "      <td>5</td>\n",
              "    </tr>\n",
              "    <tr>\n",
              "      <th>ID1770</th>\n",
              "      <td>2020-03-06</td>\n",
              "      <td>Ana S.</td>\n",
              "      <td>Cancelametos</td>\n",
              "      <td>Sim - S</td>\n",
              "      <td>78</td>\n",
              "      <td>62</td>\n",
              "      <td>4</td>\n",
              "    </tr>\n",
              "    <tr>\n",
              "      <th>ID1772</th>\n",
              "      <td>2020-03-28</td>\n",
              "      <td>Leandro C.</td>\n",
              "      <td>Reclamação</td>\n",
              "      <td>Sim - S</td>\n",
              "      <td>121</td>\n",
              "      <td>361</td>\n",
              "      <td>2</td>\n",
              "    </tr>\n",
              "  </tbody>\n",
              "</table>\n",
              "<p>1009 rows × 7 columns</p>\n",
              "</div>\n",
              "      <button class=\"colab-df-convert\" onclick=\"convertToInteractive('df-fd1887f9-cfcc-4498-bb32-41bb7b6a931f')\"\n",
              "              title=\"Convert this dataframe to an interactive table.\"\n",
              "              style=\"display:none;\">\n",
              "        \n",
              "  <svg xmlns=\"http://www.w3.org/2000/svg\" height=\"24px\"viewBox=\"0 0 24 24\"\n",
              "       width=\"24px\">\n",
              "    <path d=\"M0 0h24v24H0V0z\" fill=\"none\"/>\n",
              "    <path d=\"M18.56 5.44l.94 2.06.94-2.06 2.06-.94-2.06-.94-.94-2.06-.94 2.06-2.06.94zm-11 1L8.5 8.5l.94-2.06 2.06-.94-2.06-.94L8.5 2.5l-.94 2.06-2.06.94zm10 10l.94 2.06.94-2.06 2.06-.94-2.06-.94-.94-2.06-.94 2.06-2.06.94z\"/><path d=\"M17.41 7.96l-1.37-1.37c-.4-.4-.92-.59-1.43-.59-.52 0-1.04.2-1.43.59L10.3 9.45l-7.72 7.72c-.78.78-.78 2.05 0 2.83L4 21.41c.39.39.9.59 1.41.59.51 0 1.02-.2 1.41-.59l7.78-7.78 2.81-2.81c.8-.78.8-2.07 0-2.86zM5.41 20L4 18.59l7.72-7.72 1.47 1.35L5.41 20z\"/>\n",
              "  </svg>\n",
              "      </button>\n",
              "      \n",
              "  <style>\n",
              "    .colab-df-container {\n",
              "      display:flex;\n",
              "      flex-wrap:wrap;\n",
              "      gap: 12px;\n",
              "    }\n",
              "\n",
              "    .colab-df-convert {\n",
              "      background-color: #E8F0FE;\n",
              "      border: none;\n",
              "      border-radius: 50%;\n",
              "      cursor: pointer;\n",
              "      display: none;\n",
              "      fill: #1967D2;\n",
              "      height: 32px;\n",
              "      padding: 0 0 0 0;\n",
              "      width: 32px;\n",
              "    }\n",
              "\n",
              "    .colab-df-convert:hover {\n",
              "      background-color: #E2EBFA;\n",
              "      box-shadow: 0px 1px 2px rgba(60, 64, 67, 0.3), 0px 1px 3px 1px rgba(60, 64, 67, 0.15);\n",
              "      fill: #174EA6;\n",
              "    }\n",
              "\n",
              "    [theme=dark] .colab-df-convert {\n",
              "      background-color: #3B4455;\n",
              "      fill: #D2E3FC;\n",
              "    }\n",
              "\n",
              "    [theme=dark] .colab-df-convert:hover {\n",
              "      background-color: #434B5C;\n",
              "      box-shadow: 0px 1px 3px 1px rgba(0, 0, 0, 0.15);\n",
              "      filter: drop-shadow(0px 1px 2px rgba(0, 0, 0, 0.3));\n",
              "      fill: #FFFFFF;\n",
              "    }\n",
              "  </style>\n",
              "\n",
              "      <script>\n",
              "        const buttonEl =\n",
              "          document.querySelector('#df-fd1887f9-cfcc-4498-bb32-41bb7b6a931f button.colab-df-convert');\n",
              "        buttonEl.style.display =\n",
              "          google.colab.kernel.accessAllowed ? 'block' : 'none';\n",
              "\n",
              "        async function convertToInteractive(key) {\n",
              "          const element = document.querySelector('#df-fd1887f9-cfcc-4498-bb32-41bb7b6a931f');\n",
              "          const dataTable =\n",
              "            await google.colab.kernel.invokeFunction('convertToInteractive',\n",
              "                                                     [key], {});\n",
              "          if (!dataTable) return;\n",
              "\n",
              "          const docLinkHtml = 'Like what you see? Visit the ' +\n",
              "            '<a target=\"_blank\" href=https://colab.research.google.com/notebooks/data_table.ipynb>data table notebook</a>'\n",
              "            + ' to learn more about interactive tables.';\n",
              "          element.innerHTML = '';\n",
              "          dataTable['output_type'] = 'display_data';\n",
              "          await google.colab.output.renderOutput(dataTable, element);\n",
              "          const docLink = document.createElement('div');\n",
              "          docLink.innerHTML = docLinkHtml;\n",
              "          element.appendChild(docLink);\n",
              "        }\n",
              "      </script>\n",
              "    </div>\n",
              "  </div>\n",
              "  "
            ]
          },
          "metadata": {},
          "execution_count": 33
        }
      ]
    },
    {
      "cell_type": "code",
      "source": [
        "df.isna().sum()"
      ],
      "metadata": {
        "colab": {
          "base_uri": "https://localhost:8080/"
        },
        "id": "5jfs1F-Ikd-S",
        "outputId": "e1e58347-ca4b-47e1-ae47-f9b0f25e690d"
      },
      "execution_count": null,
      "outputs": [
        {
          "output_type": "execute_result",
          "data": {
            "text/plain": [
              "Call Id                              0\n",
              "Data                                 0\n",
              "Atendente                            0\n",
              "Área                                 0\n",
              "Respondido - Resolvido (S/N)         0\n",
              "Velocidade de Resposta               0\n",
              "Duracao Chamada                      0\n",
              "Duracao com atendente em Segundos    0\n",
              "Índice de Satisfacao                 0\n",
              "dtype: int64"
            ]
          },
          "metadata": {},
          "execution_count": 8
        }
      ]
    },
    {
      "cell_type": "code",
      "source": [
        "pd.unique(df['Área'])"
      ],
      "metadata": {
        "colab": {
          "base_uri": "https://localhost:8080/"
        },
        "id": "tfsVCybJke6b",
        "outputId": "178196c4-b09c-4727-cd78-2516cff36c82"
      },
      "execution_count": null,
      "outputs": [
        {
          "output_type": "execute_result",
          "data": {
            "text/plain": [
              "array(['Vendas', 'RECLAMAÇÕES', 'Cancelametos', 'Trocas'], dtype=object)"
            ]
          },
          "metadata": {},
          "execution_count": 10
        }
      ]
    },
    {
      "cell_type": "code",
      "source": [
        "df.loc[df.Área == 'RECLAMAÇÕES',['Área']] = 'Reclamação'"
      ],
      "metadata": {
        "id": "64y_Rwi0k5yV"
      },
      "execution_count": null,
      "outputs": []
    },
    {
      "cell_type": "code",
      "source": [
        "df.set_index('Call Id',inplace=True)"
      ],
      "metadata": {
        "id": "txvuXbO4lPAG"
      },
      "execution_count": null,
      "outputs": []
    },
    {
      "cell_type": "code",
      "source": [
        "df.count()"
      ],
      "metadata": {
        "colab": {
          "base_uri": "https://localhost:8080/"
        },
        "id": "dDW6zlHBlUlJ",
        "outputId": "8183242e-d7e2-4759-bbf9-276458667bd6"
      },
      "execution_count": null,
      "outputs": [
        {
          "output_type": "execute_result",
          "data": {
            "text/plain": [
              "Data                                 1009\n",
              "Atendente                            1009\n",
              "Área                                 1009\n",
              "Respondido - Resolvido (S/N)         1009\n",
              "Velocidade de Resposta               1009\n",
              "Duracao Chamada                      1009\n",
              "Duracao com atendente em Segundos    1009\n",
              "Índice de Satisfacao                 1009\n",
              "dtype: int64"
            ]
          },
          "metadata": {},
          "execution_count": 15
        }
      ]
    },
    {
      "cell_type": "code",
      "source": [
        "df.dtypes"
      ],
      "metadata": {
        "colab": {
          "base_uri": "https://localhost:8080/"
        },
        "id": "byQ9PRlplXZz",
        "outputId": "43c906d0-65a7-461b-8ba0-e86a30c5ab41"
      },
      "execution_count": null,
      "outputs": [
        {
          "output_type": "execute_result",
          "data": {
            "text/plain": [
              "Data                                  int64\n",
              "Atendente                            object\n",
              "Área                                 object\n",
              "Respondido - Resolvido (S/N)         object\n",
              "Velocidade de Resposta                int64\n",
              "Duracao com atendente em Segundos     int64\n",
              "Índice de Satisfacao                  int64\n",
              "dtype: object"
            ]
          },
          "metadata": {},
          "execution_count": 23
        }
      ]
    },
    {
      "cell_type": "code",
      "source": [
        "df.drop([\"Duracao Chamada\"],axis=1,inplace=True)"
      ],
      "metadata": {
        "id": "m4hID4l4lams"
      },
      "execution_count": null,
      "outputs": []
    },
    {
      "cell_type": "code",
      "source": [
        "df['Atendente'] = df['Atendente'].astype(str)"
      ],
      "metadata": {
        "id": "t_K6Jd5BmDck"
      },
      "execution_count": null,
      "outputs": []
    },
    {
      "cell_type": "code",
      "source": [
        "df['Área'] = df['Área'].astype(str)"
      ],
      "metadata": {
        "id": "JHwdY51pmJcX"
      },
      "execution_count": null,
      "outputs": []
    },
    {
      "cell_type": "code",
      "source": [
        "df['Respondido - Resolvido (S/N)'] = df['Respondido - Resolvido (S/N)'].astype(str)"
      ],
      "metadata": {
        "id": "o2v5OLmVmvGN"
      },
      "execution_count": null,
      "outputs": []
    },
    {
      "cell_type": "code",
      "source": [
        "pd.unique(df['Índice de Satisfacao'])"
      ],
      "metadata": {
        "colab": {
          "base_uri": "https://localhost:8080/"
        },
        "id": "NZBoEUPknj1b",
        "outputId": "2425d079-5158-4f80-e161-322894b6df48"
      },
      "execution_count": null,
      "outputs": [
        {
          "output_type": "execute_result",
          "data": {
            "text/plain": [
              "array([2, 3, 1, 5, 4])"
            ]
          },
          "metadata": {},
          "execution_count": 31
        }
      ]
    },
    {
      "cell_type": "code",
      "source": [
        "pd.set_option('display.max_columns',100)"
      ],
      "metadata": {
        "id": "atDc8a4_oJ-Y"
      },
      "execution_count": null,
      "outputs": []
    },
    {
      "cell_type": "code",
      "source": [
        "from datetime import datetime, timedelta\n",
        "\n",
        "# Definindo a data base como 01/01/1900\n",
        "base_date = datetime(1900, 1, 1)\n",
        "\n",
        "# Convertendo a coluna de dias para uma lista de datas\n",
        "days = [base_date + timedelta(days=int(d)) for d in df['Data']]\n",
        "\n",
        "# Substituindo a coluna original no dataframe pela nova coluna de datas\n",
        "df['Data'] = days\n"
      ],
      "metadata": {
        "id": "rcyAnmQYnqTV"
      },
      "execution_count": null,
      "outputs": []
    },
    {
      "cell_type": "code",
      "source": [
        "df.info()"
      ],
      "metadata": {
        "colab": {
          "base_uri": "https://localhost:8080/"
        },
        "id": "f1CiAtW5oS-j",
        "outputId": "dbd5716a-ffa3-434d-e8ab-0714c7016eec"
      },
      "execution_count": null,
      "outputs": [
        {
          "output_type": "stream",
          "name": "stdout",
          "text": [
            "<class 'pandas.core.frame.DataFrame'>\n",
            "Index: 1009 entries, ID0001 to ID1772\n",
            "Data columns (total 7 columns):\n",
            " #   Column                             Non-Null Count  Dtype         \n",
            "---  ------                             --------------  -----         \n",
            " 0   Data                               1009 non-null   datetime64[ns]\n",
            " 1   Atendente                          1009 non-null   object        \n",
            " 2   Área                               1009 non-null   object        \n",
            " 3   Respondido - Resolvido (S/N)       1009 non-null   object        \n",
            " 4   Velocidade de Resposta             1009 non-null   int64         \n",
            " 5   Duracao com atendente em Segundos  1009 non-null   int64         \n",
            " 6   Índice de Satisfacao               1009 non-null   int64         \n",
            "dtypes: datetime64[ns](1), int64(3), object(3)\n",
            "memory usage: 95.4+ KB\n"
          ]
        }
      ]
    },
    {
      "cell_type": "code",
      "source": [
        "df.isna().sum()"
      ],
      "metadata": {
        "colab": {
          "base_uri": "https://localhost:8080/"
        },
        "id": "NScUrJcmoZr4",
        "outputId": "18b307e0-4d7a-48a5-9054-e11d8ae71d54"
      },
      "execution_count": null,
      "outputs": [
        {
          "output_type": "execute_result",
          "data": {
            "text/plain": [
              "Data                                 0\n",
              "Atendente                            0\n",
              "Área                                 0\n",
              "Respondido - Resolvido (S/N)         0\n",
              "Velocidade de Resposta               0\n",
              "Duracao com atendente em Segundos    0\n",
              "Índice de Satisfacao                 0\n",
              "dtype: int64"
            ]
          },
          "metadata": {},
          "execution_count": 35
        }
      ]
    },
    {
      "cell_type": "code",
      "source": [
        "df.count()"
      ],
      "metadata": {
        "colab": {
          "base_uri": "https://localhost:8080/"
        },
        "id": "tTWnMTT-obdy",
        "outputId": "66da48a8-ece3-405f-cc5e-f449f73f9416"
      },
      "execution_count": null,
      "outputs": [
        {
          "output_type": "execute_result",
          "data": {
            "text/plain": [
              "Data                                 1009\n",
              "Atendente                            1009\n",
              "Área                                 1009\n",
              "Respondido - Resolvido (S/N)         1009\n",
              "Velocidade de Resposta               1009\n",
              "Duracao com atendente em Segundos    1009\n",
              "Índice de Satisfacao                 1009\n",
              "dtype: int64"
            ]
          },
          "metadata": {},
          "execution_count": 36
        }
      ]
    },
    {
      "cell_type": "code",
      "source": [
        "df.head(5)"
      ],
      "metadata": {
        "colab": {
          "base_uri": "https://localhost:8080/",
          "height": 237
        },
        "id": "JxbPpRbNoj7d",
        "outputId": "af558acf-6526-40dd-8cbf-1090d16eda73"
      },
      "execution_count": null,
      "outputs": [
        {
          "output_type": "execute_result",
          "data": {
            "text/plain": [
              "              Data   Atendente          Área Respondido - Resolvido (S/N)  \\\n",
              "Call Id                                                                     \n",
              "ID0001  2020-03-24     João D.        Vendas                      Sim - S   \n",
              "ID0002  2020-03-19  Marcelo F.    Reclamação                      Sim - N   \n",
              "ID0003  2020-03-20  Leandro C.        Vendas                      Sim - S   \n",
              "ID0004  2020-03-11  Leandro C.        Vendas                      Sim - S   \n",
              "ID0007  2020-03-03   Marina Z.  Cancelametos                      Sim - S   \n",
              "\n",
              "         Velocidade de Resposta  Duracao com atendente em Segundos  \\\n",
              "Call Id                                                              \n",
              "ID0001                      109                                143   \n",
              "ID0002                       70                                242   \n",
              "ID0003                       10                                131   \n",
              "ID0004                       53                                 37   \n",
              "ID0007                       24                                220   \n",
              "\n",
              "         Índice de Satisfacao  \n",
              "Call Id                        \n",
              "ID0001                      2  \n",
              "ID0002                      3  \n",
              "ID0003                      3  \n",
              "ID0004                      2  \n",
              "ID0007                      2  "
            ],
            "text/html": [
              "\n",
              "  <div id=\"df-492d5a74-9b4e-4e8e-b04e-2c1ef6148a42\">\n",
              "    <div class=\"colab-df-container\">\n",
              "      <div>\n",
              "<style scoped>\n",
              "    .dataframe tbody tr th:only-of-type {\n",
              "        vertical-align: middle;\n",
              "    }\n",
              "\n",
              "    .dataframe tbody tr th {\n",
              "        vertical-align: top;\n",
              "    }\n",
              "\n",
              "    .dataframe thead th {\n",
              "        text-align: right;\n",
              "    }\n",
              "</style>\n",
              "<table border=\"1\" class=\"dataframe\">\n",
              "  <thead>\n",
              "    <tr style=\"text-align: right;\">\n",
              "      <th></th>\n",
              "      <th>Data</th>\n",
              "      <th>Atendente</th>\n",
              "      <th>Área</th>\n",
              "      <th>Respondido - Resolvido (S/N)</th>\n",
              "      <th>Velocidade de Resposta</th>\n",
              "      <th>Duracao com atendente em Segundos</th>\n",
              "      <th>Índice de Satisfacao</th>\n",
              "    </tr>\n",
              "    <tr>\n",
              "      <th>Call Id</th>\n",
              "      <th></th>\n",
              "      <th></th>\n",
              "      <th></th>\n",
              "      <th></th>\n",
              "      <th></th>\n",
              "      <th></th>\n",
              "      <th></th>\n",
              "    </tr>\n",
              "  </thead>\n",
              "  <tbody>\n",
              "    <tr>\n",
              "      <th>ID0001</th>\n",
              "      <td>2020-03-24</td>\n",
              "      <td>João D.</td>\n",
              "      <td>Vendas</td>\n",
              "      <td>Sim - S</td>\n",
              "      <td>109</td>\n",
              "      <td>143</td>\n",
              "      <td>2</td>\n",
              "    </tr>\n",
              "    <tr>\n",
              "      <th>ID0002</th>\n",
              "      <td>2020-03-19</td>\n",
              "      <td>Marcelo F.</td>\n",
              "      <td>Reclamação</td>\n",
              "      <td>Sim - N</td>\n",
              "      <td>70</td>\n",
              "      <td>242</td>\n",
              "      <td>3</td>\n",
              "    </tr>\n",
              "    <tr>\n",
              "      <th>ID0003</th>\n",
              "      <td>2020-03-20</td>\n",
              "      <td>Leandro C.</td>\n",
              "      <td>Vendas</td>\n",
              "      <td>Sim - S</td>\n",
              "      <td>10</td>\n",
              "      <td>131</td>\n",
              "      <td>3</td>\n",
              "    </tr>\n",
              "    <tr>\n",
              "      <th>ID0004</th>\n",
              "      <td>2020-03-11</td>\n",
              "      <td>Leandro C.</td>\n",
              "      <td>Vendas</td>\n",
              "      <td>Sim - S</td>\n",
              "      <td>53</td>\n",
              "      <td>37</td>\n",
              "      <td>2</td>\n",
              "    </tr>\n",
              "    <tr>\n",
              "      <th>ID0007</th>\n",
              "      <td>2020-03-03</td>\n",
              "      <td>Marina Z.</td>\n",
              "      <td>Cancelametos</td>\n",
              "      <td>Sim - S</td>\n",
              "      <td>24</td>\n",
              "      <td>220</td>\n",
              "      <td>2</td>\n",
              "    </tr>\n",
              "  </tbody>\n",
              "</table>\n",
              "</div>\n",
              "      <button class=\"colab-df-convert\" onclick=\"convertToInteractive('df-492d5a74-9b4e-4e8e-b04e-2c1ef6148a42')\"\n",
              "              title=\"Convert this dataframe to an interactive table.\"\n",
              "              style=\"display:none;\">\n",
              "        \n",
              "  <svg xmlns=\"http://www.w3.org/2000/svg\" height=\"24px\"viewBox=\"0 0 24 24\"\n",
              "       width=\"24px\">\n",
              "    <path d=\"M0 0h24v24H0V0z\" fill=\"none\"/>\n",
              "    <path d=\"M18.56 5.44l.94 2.06.94-2.06 2.06-.94-2.06-.94-.94-2.06-.94 2.06-2.06.94zm-11 1L8.5 8.5l.94-2.06 2.06-.94-2.06-.94L8.5 2.5l-.94 2.06-2.06.94zm10 10l.94 2.06.94-2.06 2.06-.94-2.06-.94-.94-2.06-.94 2.06-2.06.94z\"/><path d=\"M17.41 7.96l-1.37-1.37c-.4-.4-.92-.59-1.43-.59-.52 0-1.04.2-1.43.59L10.3 9.45l-7.72 7.72c-.78.78-.78 2.05 0 2.83L4 21.41c.39.39.9.59 1.41.59.51 0 1.02-.2 1.41-.59l7.78-7.78 2.81-2.81c.8-.78.8-2.07 0-2.86zM5.41 20L4 18.59l7.72-7.72 1.47 1.35L5.41 20z\"/>\n",
              "  </svg>\n",
              "      </button>\n",
              "      \n",
              "  <style>\n",
              "    .colab-df-container {\n",
              "      display:flex;\n",
              "      flex-wrap:wrap;\n",
              "      gap: 12px;\n",
              "    }\n",
              "\n",
              "    .colab-df-convert {\n",
              "      background-color: #E8F0FE;\n",
              "      border: none;\n",
              "      border-radius: 50%;\n",
              "      cursor: pointer;\n",
              "      display: none;\n",
              "      fill: #1967D2;\n",
              "      height: 32px;\n",
              "      padding: 0 0 0 0;\n",
              "      width: 32px;\n",
              "    }\n",
              "\n",
              "    .colab-df-convert:hover {\n",
              "      background-color: #E2EBFA;\n",
              "      box-shadow: 0px 1px 2px rgba(60, 64, 67, 0.3), 0px 1px 3px 1px rgba(60, 64, 67, 0.15);\n",
              "      fill: #174EA6;\n",
              "    }\n",
              "\n",
              "    [theme=dark] .colab-df-convert {\n",
              "      background-color: #3B4455;\n",
              "      fill: #D2E3FC;\n",
              "    }\n",
              "\n",
              "    [theme=dark] .colab-df-convert:hover {\n",
              "      background-color: #434B5C;\n",
              "      box-shadow: 0px 1px 3px 1px rgba(0, 0, 0, 0.15);\n",
              "      filter: drop-shadow(0px 1px 2px rgba(0, 0, 0, 0.3));\n",
              "      fill: #FFFFFF;\n",
              "    }\n",
              "  </style>\n",
              "\n",
              "      <script>\n",
              "        const buttonEl =\n",
              "          document.querySelector('#df-492d5a74-9b4e-4e8e-b04e-2c1ef6148a42 button.colab-df-convert');\n",
              "        buttonEl.style.display =\n",
              "          google.colab.kernel.accessAllowed ? 'block' : 'none';\n",
              "\n",
              "        async function convertToInteractive(key) {\n",
              "          const element = document.querySelector('#df-492d5a74-9b4e-4e8e-b04e-2c1ef6148a42');\n",
              "          const dataTable =\n",
              "            await google.colab.kernel.invokeFunction('convertToInteractive',\n",
              "                                                     [key], {});\n",
              "          if (!dataTable) return;\n",
              "\n",
              "          const docLinkHtml = 'Like what you see? Visit the ' +\n",
              "            '<a target=\"_blank\" href=https://colab.research.google.com/notebooks/data_table.ipynb>data table notebook</a>'\n",
              "            + ' to learn more about interactive tables.';\n",
              "          element.innerHTML = '';\n",
              "          dataTable['output_type'] = 'display_data';\n",
              "          await google.colab.output.renderOutput(dataTable, element);\n",
              "          const docLink = document.createElement('div');\n",
              "          docLink.innerHTML = docLinkHtml;\n",
              "          element.appendChild(docLink);\n",
              "        }\n",
              "      </script>\n",
              "    </div>\n",
              "  </div>\n",
              "  "
            ]
          },
          "metadata": {},
          "execution_count": 39
        }
      ]
    },
    {
      "cell_type": "code",
      "source": [
        "df.to_csv('dados-atendimento.csv',index=False)"
      ],
      "metadata": {
        "id": "5ww6iPpRoxFc"
      },
      "execution_count": null,
      "outputs": []
    },
    {
      "cell_type": "code",
      "source": [
        "os.getcwd()"
      ],
      "metadata": {
        "colab": {
          "base_uri": "https://localhost:8080/",
          "height": 36
        },
        "id": "3s5uQ3K2pAwE",
        "outputId": "36c69ee2-8df7-4ea3-d5e4-b6a15fe08c4a"
      },
      "execution_count": null,
      "outputs": [
        {
          "output_type": "execute_result",
          "data": {
            "text/plain": [
              "'/content'"
            ],
            "application/vnd.google.colaboratory.intrinsic+json": {
              "type": "string"
            }
          },
          "metadata": {},
          "execution_count": 42
        }
      ]
    },
    {
      "cell_type": "code",
      "source": [
        "from google.colab import drive\n",
        "drive.mount('/content/drive')"
      ],
      "metadata": {
        "colab": {
          "base_uri": "https://localhost:8080/"
        },
        "id": "BLE8IN-SpN48",
        "outputId": "286412bd-0eac-4ec1-d970-5010d6a8c484"
      },
      "execution_count": null,
      "outputs": [
        {
          "output_type": "stream",
          "name": "stdout",
          "text": [
            "Mounted at /content/drive\n"
          ]
        }
      ]
    },
    {
      "cell_type": "code",
      "source": [
        "df.loc"
      ],
      "metadata": {
        "id": "kOwiOuOIrSgZ"
      },
      "execution_count": null,
      "outputs": []
    }
  ]
}